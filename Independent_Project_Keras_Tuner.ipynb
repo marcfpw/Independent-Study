{
  "nbformat": 4,
  "nbformat_minor": 0,
  "metadata": {
    "colab": {
      "provenance": [],
      "authorship_tag": "ABX9TyPH8xJ0Q35v279zCtrIw34W",
      "include_colab_link": true
    },
    "kernelspec": {
      "name": "python3",
      "display_name": "Python 3"
    },
    "language_info": {
      "name": "python"
    }
  },
  "cells": [
    {
      "cell_type": "markdown",
      "metadata": {
        "id": "view-in-github",
        "colab_type": "text"
      },
      "source": [
        "<a href=\"https://colab.research.google.com/github/marcfpw/Independent-Study/blob/main/Independent_Project_Keras_Tuner.ipynb\" target=\"_parent\"><img src=\"https://colab.research.google.com/assets/colab-badge.svg\" alt=\"Open In Colab\"/></a>"
      ]
    },
    {
      "cell_type": "code",
      "execution_count": 36,
      "metadata": {
        "id": "GnvxXvG3L3jg"
      },
      "outputs": [],
      "source": [
        "!pip install keras-tuner -q\n",
        "import keras_tuner\n",
        "\n",
        "import numpy as np\n",
        "from tensorflow import keras\n",
        "from tensorflow.keras import layers"
      ]
    },
    {
      "cell_type": "code",
      "source": [
        "# Prepare dataset to be used\n",
        "\n",
        "(x, y), (x_test, y_test) = keras.datasets.mnist.load_data()\n",
        "\n",
        "x_train = x[:-10000]\n",
        "x_val = x[-10000:]\n",
        "y_train = y[:-10000]\n",
        "y_val = y[-10000:]\n",
        "\n",
        "x_train = np.expand_dims(x_train, -1).astype(\"float32\") / 255.0\n",
        "x_val = np.expand_dims(x_val, -1).astype(\"float32\") / 255.0\n",
        "x_test = np.expand_dims(x_test, -1).astype(\"float32\") / 255.0\n",
        "\n",
        "num_classes = 10\n",
        "y_train = keras.utils.to_categorical(y_train, num_classes)\n",
        "y_val = keras.utils.to_categorical(y_val, num_classes)\n",
        "y_test = keras.utils.to_categorical(y_test, num_classes)"
      ],
      "metadata": {
        "id": "ci8npkQTM22P"
      },
      "execution_count": 37,
      "outputs": []
    },
    {
      "cell_type": "code",
      "source": [
        "def build_model(hp):\n",
        "    model = keras.Sequential()\n",
        "    model.add(layers.Flatten())\n",
        "    # Tune the number of layers.\n",
        "    for i in range(hp.Int(\"num_layers\", 1, 3)):\n",
        "        model.add(\n",
        "            layers.Dense(\n",
        "                # Tune number of units separately.\n",
        "                units=hp.Int(f\"units_{i}\", min_value=32, max_value=512, step=32),\n",
        "                activation=hp.Choice(\"activation\", [\"relu\", \"tanh\"]),\n",
        "            )\n",
        "        )\n",
        "    if hp.Boolean(\"dropout\"):\n",
        "        model.add(layers.Dropout(rate=0.25))\n",
        "    model.add(layers.Dense(10, activation=\"softmax\"))\n",
        "    learning_rate = hp.Float(\"lr\", min_value=1e-4, max_value=1e-2, sampling=\"log\")\n",
        "    model.compile(\n",
        "        optimizer=keras.optimizers.Adam(learning_rate=learning_rate),\n",
        "        loss=\"categorical_crossentropy\",\n",
        "        metrics=[\"accuracy\"],\n",
        "    )\n",
        "    return model\n",
        "\n",
        "build_model(keras_tuner.HyperParameters())"
      ],
      "metadata": {
        "id": "oUWq8IDimL5W",
        "colab": {
          "base_uri": "https://localhost:8080/"
        },
        "outputId": "a138aa17-0a14-40c5-bb86-08a19c64fabb"
      },
      "execution_count": 38,
      "outputs": [
        {
          "output_type": "execute_result",
          "data": {
            "text/plain": [
              "<keras.engine.sequential.Sequential at 0x7fc474c445b0>"
            ]
          },
          "metadata": {},
          "execution_count": 38
        }
      ]
    },
    {
      "cell_type": "code",
      "source": [
        "# Select tuner class to Run\n",
        "# keras_tuner can be changed to .GridSearch, .RandomSearh, .Hyperband,.BayesianOptimization\n",
        "tuner = keras_tuner.RandomSearch(\n",
        "    hypermodel=build_model,\n",
        "    objective=\"val_accuracy\",\n",
        "    max_trials=10,\n",
        "    seed=1,\n",
        "    executions_per_trial=2,\n",
        "    overwrite=True,\n",
        "    directory=\"my_dir\",\n",
        "    project_name=\"helloworld\",\n",
        ")\n",
        "\n",
        "# Print summary of search space\n",
        "tuner.search_space_summary()"
      ],
      "metadata": {
        "id": "07c4yVeVM2zU",
        "colab": {
          "base_uri": "https://localhost:8080/"
        },
        "outputId": "f0f9684d-7361-4ada-e3c3-561c2f6ad7bf"
      },
      "execution_count": 39,
      "outputs": [
        {
          "output_type": "stream",
          "name": "stdout",
          "text": [
            "Search space summary\n",
            "Default search space size: 5\n",
            "num_layers (Int)\n",
            "{'default': None, 'conditions': [], 'min_value': 1, 'max_value': 3, 'step': 1, 'sampling': 'linear'}\n",
            "units_0 (Int)\n",
            "{'default': None, 'conditions': [], 'min_value': 32, 'max_value': 512, 'step': 32, 'sampling': 'linear'}\n",
            "activation (Choice)\n",
            "{'default': 'relu', 'conditions': [], 'values': ['relu', 'tanh'], 'ordered': False}\n",
            "dropout (Boolean)\n",
            "{'default': False, 'conditions': []}\n",
            "lr (Float)\n",
            "{'default': 0.0001, 'conditions': [], 'min_value': 0.0001, 'max_value': 0.01, 'step': None, 'sampling': 'log'}\n"
          ]
        }
      ]
    },
    {
      "cell_type": "code",
      "source": [
        "# Just a simple function to covert to more readable time units\n",
        "import time\n",
        "def time_convert(sec):\n",
        "  mins = sec // 60\n",
        "  sec = sec % 60\n",
        "  hours = mins // 60\n",
        "  mins = mins % 60\n",
        "  print(\"Time Lapsed = {0}:{1}:{2}\".format(int(hours),int(mins),sec))"
      ],
      "metadata": {
        "id": "FEkNXgmNxSbd"
      },
      "execution_count": 40,
      "outputs": []
    },
    {
      "cell_type": "code",
      "source": [
        "#Start time of Search\n",
        "start_time = time.time()"
      ],
      "metadata": {
        "id": "V3Ic-hTgwgHM"
      },
      "execution_count": 41,
      "outputs": []
    },
    {
      "cell_type": "code",
      "source": [
        "#Start Search\n",
        "tuner.search(x_train, y_train, epochs=2, validation_data=(x_val, y_val))"
      ],
      "metadata": {
        "colab": {
          "base_uri": "https://localhost:8080/"
        },
        "id": "KQBqLMdgM2-Q",
        "outputId": "0f7696d3-eefa-4325-e338-59a42ca47296"
      },
      "execution_count": 42,
      "outputs": [
        {
          "output_type": "stream",
          "name": "stdout",
          "text": [
            "Trial 10 Complete [00h 00m 38s]\n",
            "val_accuracy: 0.966949999332428\n",
            "\n",
            "Best val_accuracy So Far: 0.9727500081062317\n",
            "Total elapsed time: 00h 07m 19s\n"
          ]
        }
      ]
    },
    {
      "cell_type": "code",
      "source": [
        "#End time of Search\n",
        "end_time = time.time()\n",
        "\n",
        "#Total Time lapsed during search\n",
        "time_convert(end_time - start_time)"
      ],
      "metadata": {
        "id": "K8-g_NtCwgsC",
        "colab": {
          "base_uri": "https://localhost:8080/"
        },
        "outputId": "da529bba-cc0c-4735-e40d-f530504b9705"
      },
      "execution_count": 43,
      "outputs": [
        {
          "output_type": "stream",
          "name": "stdout",
          "text": [
            "Time Lapsed = 0:7:18.75233244895935\n"
          ]
        }
      ]
    },
    {
      "cell_type": "code",
      "source": [
        "# Get top 2 models\n",
        "# Get the top 2 models.\n",
        "models = tuner.get_best_models(num_models=2)\n",
        "best_model = models[0]\n",
        "# Build the model.\n",
        "# Needed for `Sequential` without specified `input_shape`.\n",
        "best_model.build(input_shape=(None, 28, 28))\n",
        "best_model.summary()"
      ],
      "metadata": {
        "id": "sJzCfoi8M3BF",
        "colab": {
          "base_uri": "https://localhost:8080/"
        },
        "outputId": "7e272ec2-0cdc-4671-bfad-1b63ff7e9f1c"
      },
      "execution_count": 44,
      "outputs": [
        {
          "output_type": "stream",
          "name": "stdout",
          "text": [
            "Model: \"sequential\"\n",
            "_________________________________________________________________\n",
            " Layer (type)                Output Shape              Param #   \n",
            "=================================================================\n",
            " flatten (Flatten)           (None, 784)               0         \n",
            "                                                                 \n",
            " dense (Dense)               (None, 512)               401920    \n",
            "                                                                 \n",
            " dense_1 (Dense)             (None, 10)                5130      \n",
            "                                                                 \n",
            "=================================================================\n",
            "Total params: 407,050\n",
            "Trainable params: 407,050\n",
            "Non-trainable params: 0\n",
            "_________________________________________________________________\n"
          ]
        }
      ]
    },
    {
      "cell_type": "code",
      "source": [
        "tuner.results_summary()"
      ],
      "metadata": {
        "id": "CWXmRu_cM3RV",
        "colab": {
          "base_uri": "https://localhost:8080/"
        },
        "outputId": "0092a908-d4ff-4d83-aa68-af2cc950e534"
      },
      "execution_count": 45,
      "outputs": [
        {
          "output_type": "stream",
          "name": "stdout",
          "text": [
            "Results summary\n",
            "Results in my_dir/helloworld\n",
            "Showing 10 best trials\n",
            "Objective(name=\"val_accuracy\", direction=\"max\")\n",
            "\n",
            "Trial 00 summary\n",
            "Hyperparameters:\n",
            "num_layers: 1\n",
            "units_0: 512\n",
            "activation: relu\n",
            "dropout: False\n",
            "lr: 0.0017611785596585996\n",
            "Score: 0.9727500081062317\n",
            "\n",
            "Trial 01 summary\n",
            "Hyperparameters:\n",
            "num_layers: 3\n",
            "units_0: 192\n",
            "activation: relu\n",
            "dropout: False\n",
            "lr: 0.0013893292827173778\n",
            "units_1: 32\n",
            "units_2: 32\n",
            "Score: 0.9711500108242035\n",
            "\n",
            "Trial 09 summary\n",
            "Hyperparameters:\n",
            "num_layers: 1\n",
            "units_0: 256\n",
            "activation: tanh\n",
            "dropout: False\n",
            "lr: 0.0008960175671873151\n",
            "units_1: 224\n",
            "units_2: 64\n",
            "Score: 0.966949999332428\n",
            "\n",
            "Trial 07 summary\n",
            "Hyperparameters:\n",
            "num_layers: 3\n",
            "units_0: 192\n",
            "activation: tanh\n",
            "dropout: False\n",
            "lr: 0.0009887195863122636\n",
            "units_1: 128\n",
            "units_2: 512\n",
            "Score: 0.9665000140666962\n",
            "\n",
            "Trial 04 summary\n",
            "Hyperparameters:\n",
            "num_layers: 2\n",
            "units_0: 384\n",
            "activation: tanh\n",
            "dropout: False\n",
            "lr: 0.0012480675960619121\n",
            "units_1: 288\n",
            "units_2: 32\n",
            "Score: 0.9663999974727631\n",
            "\n",
            "Trial 08 summary\n",
            "Hyperparameters:\n",
            "num_layers: 2\n",
            "units_0: 480\n",
            "activation: relu\n",
            "dropout: True\n",
            "lr: 0.00012165541012624621\n",
            "units_1: 320\n",
            "units_2: 128\n",
            "Score: 0.9632500112056732\n",
            "\n",
            "Trial 02 summary\n",
            "Hyperparameters:\n",
            "num_layers: 2\n",
            "units_0: 256\n",
            "activation: relu\n",
            "dropout: False\n",
            "lr: 0.008520876742029873\n",
            "units_1: 192\n",
            "units_2: 288\n",
            "Score: 0.9579000174999237\n",
            "\n",
            "Trial 05 summary\n",
            "Hyperparameters:\n",
            "num_layers: 1\n",
            "units_0: 320\n",
            "activation: tanh\n",
            "dropout: True\n",
            "lr: 0.0004543609940965399\n",
            "units_1: 352\n",
            "units_2: 352\n",
            "Score: 0.9499500095844269\n",
            "\n",
            "Trial 06 summary\n",
            "Hyperparameters:\n",
            "num_layers: 1\n",
            "units_0: 256\n",
            "activation: relu\n",
            "dropout: True\n",
            "lr: 0.00011942731780421024\n",
            "units_1: 224\n",
            "units_2: 160\n",
            "Score: 0.9427500069141388\n",
            "\n",
            "Trial 03 summary\n",
            "Hyperparameters:\n",
            "num_layers: 1\n",
            "units_0: 352\n",
            "activation: tanh\n",
            "dropout: False\n",
            "lr: 0.008249331566936491\n",
            "units_1: 480\n",
            "units_2: 384\n",
            "Score: 0.9410499930381775\n"
          ]
        }
      ]
    },
    {
      "cell_type": "code",
      "source": [
        "# Get the top 2 hyperparameters.\n",
        "best_hps = tuner.get_best_hyperparameters(5)\n",
        "# Build the model with the best hp.\n",
        "model = build_model(best_hps[0])\n",
        "# Fit with the entire dataset.\n",
        "x_all = np.concatenate((x_train, x_val))\n",
        "y_all = np.concatenate((y_train, y_val))\n",
        "model.fit(x=x_all, y=y_all, epochs=1)"
      ],
      "metadata": {
        "id": "FzdNBNBrM3UW",
        "colab": {
          "base_uri": "https://localhost:8080/"
        },
        "outputId": "527747f9-0171-436d-dc1f-c193535d929a"
      },
      "execution_count": 47,
      "outputs": [
        {
          "output_type": "stream",
          "name": "stdout",
          "text": [
            "1875/1875 [==============================] - 12s 6ms/step - loss: 0.1849 - accuracy: 0.9441\n"
          ]
        },
        {
          "output_type": "execute_result",
          "data": {
            "text/plain": [
              "<keras.callbacks.History at 0x7fc47f181e50>"
            ]
          },
          "metadata": {},
          "execution_count": 47
        }
      ]
    }
  ]
}